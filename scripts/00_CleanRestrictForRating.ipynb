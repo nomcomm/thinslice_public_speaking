{
 "cells": [
  {
   "cell_type": "code",
   "execution_count": 2,
   "id": "d5b5b527-4c40-43dc-8814-49a46ffd8c62",
   "metadata": {},
   "outputs": [],
   "source": [
    "import os\n",
    "import glob\n",
    "\n",
    "def get_txt_files(root_folder):\n",
    "    \"\"\"Recursively find all .txt files in root_folder and subfolders.\"\"\"\n",
    "    return glob.glob(os.path.join(root_folder, \"**\", \"*.txt\"), recursive=True)\n",
    "\n",
    "def clean_text(text):\n",
    "    \"\"\"Remove extra spaces and line breaks while preserving content.\"\"\"\n",
    "    return \" \".join(text.split())\n",
    "\n",
    "def process_text_file(file_path, output_folder, slice_ratio = 0.2):\n",
    "    \"\"\"Load, clean, restrict, and save the processed text.\"\"\"\n",
    "    with open(file_path, \"r\", encoding=\"utf-8\") as file:\n",
    "        content = file.read()\n",
    "    \n",
    "    # Clean text\n",
    "    cleaned_text = clean_text(content)\n",
    "    \n",
    "    # Restrict to 20% of words\n",
    "    words = cleaned_text.split()\n",
    "    restricted_text = \" \".join(words[:int(len(words) * slice_ratio)])\n",
    "    \n",
    "    # Define new filename\n",
    "    base_name = os.path.basename(file_path)\n",
    "    new_name = os.path.splitext(base_name)[0] + \"_cleaned_restricted.txt\"\n",
    "    output_path = os.path.join(output_folder, new_name)\n",
    "    \n",
    "    # Save the processed text\n",
    "    with open(output_path, \"w\", encoding=\"utf-8\") as file:\n",
    "        file.write(restricted_text)\n",
    "    \n",
    "    print(f\"Processed and saved: {output_path}\")\n",
    "\n"
   ]
  },
  {
   "cell_type": "code",
   "execution_count": null,
   "id": "300a118f-e1e7-4664-ba24-058879f6e85a",
   "metadata": {},
   "outputs": [],
   "source": [
    "# Example usage:\n",
    "root_folder = \"../data/04_transcripts_corrected_selected/\"  # Change to your input folder\n",
    "output_folder = \"../data/04_transcripts_corrected_selected/\"  # Change to where you want to save results\n",
    "os.makedirs(output_folder, exist_ok=True)\n",
    "txt_files = get_txt_files(root_folder)\n",
    "\n",
    "for file_path in txt_files:\n",
    "    process_text_file(file_path, output_folder)"
   ]
  },
  {
   "cell_type": "code",
   "execution_count": null,
   "id": "5395a863-c6b8-432e-827d-21aa90c3b66d",
   "metadata": {},
   "outputs": [],
   "source": []
  }
 ],
 "metadata": {
  "kernelspec": {
   "display_name": "Python 3 (ipykernel)",
   "language": "python",
   "name": "python3"
  },
  "language_info": {
   "codemirror_mode": {
    "name": "ipython",
    "version": 3
   },
   "file_extension": ".py",
   "mimetype": "text/x-python",
   "name": "python",
   "nbconvert_exporter": "python",
   "pygments_lexer": "ipython3",
   "version": "3.10.13"
  }
 },
 "nbformat": 4,
 "nbformat_minor": 5
}
